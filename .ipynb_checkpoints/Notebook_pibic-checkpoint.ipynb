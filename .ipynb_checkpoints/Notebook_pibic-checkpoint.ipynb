{
 "cells": [
  {
   "cell_type": "markdown",
   "id": "77a13856",
   "metadata": {},
   "source": [
    "# PIBIC: GERADOR QUANTICO DE NÚMEROS ALEATÓRIOS\n",
    "## Transformação dos dados"
   ]
  },
  {
   "cell_type": "markdown",
   "id": "2911d149",
   "metadata": {},
   "source": [
    "Importando bibliotecas"
   ]
  },
  {
   "cell_type": "code",
   "execution_count": 3,
   "id": "3662928e",
   "metadata": {},
   "outputs": [
    {
     "name": "stdout",
     "output_type": "stream",
     "text": [
      "TODAS BIBLIOTECAS BAIXADAS\n"
     ]
    }
   ],
   "source": [
    "from scripts.audio_processing import AudioProcessor\n",
    "# from scripts.gui import GUI #Não precisa de GUI no caderno\n",
    "from scripts.plotting import Plotter\n",
    "from pathlib import Path\n",
    "import os\n",
    "print(\"TODAS BIBLIOTECAS BAIXADAS\")"
   ]
  },
  {
   "cell_type": "markdown",
   "id": "84416099",
   "metadata": {},
   "source": [
    "Instânciando classes para a análise do audio e plotting\n",
    "<br>Obs: No caderno não precisa de interface"
   ]
  },
  {
   "cell_type": "code",
   "execution_count": 4,
   "id": "4f398f76",
   "metadata": {},
   "outputs": [],
   "source": [
    "audio_processor = AudioProcessor()\n",
    "plotter = Plotter()"
   ]
  },
  {
   "cell_type": "markdown",
   "id": "014e6d23",
   "metadata": {},
   "source": [
    "Nas constantes AUDIO_PATH e CSV_OUTPUT_PATH adicionar o caminho do audio e do csv"
   ]
  },
  {
   "cell_type": "code",
   "execution_count": 5,
   "id": "aa57abde",
   "metadata": {},
   "outputs": [
    {
     "ename": "NameError",
     "evalue": "name '__file__' is not defined",
     "output_type": "error",
     "traceback": [
      "\u001b[1;31m---------------------------------------------------------------------------\u001b[0m",
      "\u001b[1;31mNameError\u001b[0m                                 Traceback (most recent call last)",
      "Cell \u001b[1;32mIn[5], line 2\u001b[0m\n\u001b[0;32m      1\u001b[0m \u001b[38;5;66;03m#Colocar aqui o caminho do arquivo de áudio\u001b[39;00m\n\u001b[1;32m----> 2\u001b[0m current_dir \u001b[38;5;241m=\u001b[39m Path(\u001b[38;5;18m__file__\u001b[39m)\u001b[38;5;241m.\u001b[39mresolve()\u001b[38;5;241m.\u001b[39mparent\n\u001b[0;32m      3\u001b[0m AUDIO_PATH \u001b[38;5;241m=\u001b[39m current_dir\u001b[38;5;241m/\u001b[39m\u001b[38;5;124m\"\u001b[39m\u001b[38;5;124mdata\u001b[39m\u001b[38;5;124m\"\u001b[39m\u001b[38;5;241m/\u001b[39m\u001b[38;5;124m\"\u001b[39m\u001b[38;5;124mAudio-teste-07-12-23-B.mp4\u001b[39m\u001b[38;5;124m\"\u001b[39m\n\u001b[0;32m      4\u001b[0m \u001b[38;5;66;03m#Colocar aqui o destino dos CSV\u001b[39;00m\n",
      "\u001b[1;31mNameError\u001b[0m: name '__file__' is not defined"
     ]
    }
   ],
   "source": [
    "#Colocar aqui o caminho do arquivo de áudio\n",
    "current_dir = Path(os.getcwd())\n",
    "AUDIO_PATH = current_dir/\"data\"/\"Audio-teste-07-12-23-B.mp4\"\n",
    "#Colocar aqui o destino dos CSV\n",
    "CSV_OUTPUT_PATH = current_dir/\"results\"/\"results_teste.csv\""
   ]
  },
  {
   "cell_type": "code",
   "execution_count": 8,
   "id": "ecbe6afa",
   "metadata": {},
   "outputs": [
    {
     "name": "stdout",
     "output_type": "stream",
     "text": [
      "Nenhum arquivo de áudio selecionado. Operação cancelada.\n"
     ]
    }
   ],
   "source": [
    "if AUDIO_PATH:\n",
    "    if CSV_OUTPUT_PATH:\n",
    "        onda_retangular = audio_processor.audio_para_onda_retangular(arquivo_audio, multiple=0.5)\n",
    "        audio_processor.salvar_onda_retangular_csv(onda_retangular, output_path=destino_csv)\n",
    "        print(f\"Arquivo CSV salvo em: {destino_csv}\")\n",
    "    else:\n",
    "        print(\"Nenhum destino selecionado. Operação cancelada.\")\n",
    "else:\n",
    "    print(\"Nenhum arquivo de áudio selecionado. Operação cancelada.\")"
   ]
  },
  {
   "cell_type": "markdown",
   "id": "e102c5e5",
   "metadata": {},
   "source": [
    "## Apos a transformação\n",
    "Os dados foram transformados em um csv com uma coluna, onde nele apresenta dados com 0 e 1, depois dessa transformação pegamos 8 desses números em formamos 1byte(8bits) que serão os números aleatórios"
   ]
  },
  {
   "cell_type": "code",
   "execution_count": null,
   "id": "6563b80f",
   "metadata": {},
   "outputs": [],
   "source": [
    "# TODO . . ."
   ]
  }
 ],
 "metadata": {
  "kernelspec": {
   "display_name": "Python 3 (ipykernel)",
   "language": "python",
   "name": "python3"
  },
  "language_info": {
   "codemirror_mode": {
    "name": "ipython",
    "version": 3
   },
   "file_extension": ".py",
   "mimetype": "text/x-python",
   "name": "python",
   "nbconvert_exporter": "python",
   "pygments_lexer": "ipython3",
   "version": "3.11.5"
  }
 },
 "nbformat": 4,
 "nbformat_minor": 5
}
