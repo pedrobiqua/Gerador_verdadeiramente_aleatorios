{
 "cells": [
  {
   "cell_type": "markdown",
   "id": "77a13856",
   "metadata": {},
   "source": [
    "# PIBIC: GERADOR QUANTICO DE NÚMEROS ALEATÓRIOS\n",
    "## Transformação dos dados"
   ]
  },
  {
   "cell_type": "markdown",
   "id": "2911d149",
   "metadata": {},
   "source": [
    "Importando bibliotecas"
   ]
  },
  {
   "cell_type": "code",
   "execution_count": 5,
   "id": "3662928e",
   "metadata": {},
   "outputs": [],
   "source": [
    "from scripts.audio_processing import AudioProcessor\n",
    "from scripts.gui import GUI\n",
    "from scripts.plotting import Plotter"
   ]
  },
  {
   "cell_type": "markdown",
   "id": "84416099",
   "metadata": {},
   "source": [
    "Instânciando classes para a análise do audio e plotting\n",
    "<br>Obs: No caderno não precisa de interface"
   ]
  },
  {
   "cell_type": "code",
   "execution_count": 6,
   "id": "4f398f76",
   "metadata": {},
   "outputs": [],
   "source": [
    "audio_processor = AudioProcessor()\n",
    "plotter = Plotter()"
   ]
  },
  {
   "cell_type": "markdown",
   "id": "014e6d23",
   "metadata": {},
   "source": [
    "Nas constantes AUDIO_PATH e CSV_OUTPUT_PATH adicionar o caminho do audio e do csv"
   ]
  },
  {
   "cell_type": "code",
   "execution_count": 7,
   "id": "aa57abde",
   "metadata": {},
   "outputs": [],
   "source": [
    "#Colocar aqui o caminho do arquivo de áudio\n",
    "AUDIO_PATH = \"\"\n",
    "#Colocar aqui o destino dos CSV\n",
    "CSV_OUTPUT_PATH = \"\""
   ]
  },
  {
   "cell_type": "code",
   "execution_count": 8,
   "id": "ecbe6afa",
   "metadata": {},
   "outputs": [
    {
     "name": "stdout",
     "output_type": "stream",
     "text": [
      "Nenhum arquivo de áudio selecionado. Operação cancelada.\n"
     ]
    }
   ],
   "source": [
    "if AUDIO_PATH:\n",
    "    if CSV_OUTPUT_PATH:\n",
    "        onda_retangular = audio_processor.audio_para_onda_retangular(arquivo_audio, multiple=0.5)\n",
    "        audio_processor.salvar_onda_retangular_csv(onda_retangular, output_path=destino_csv)\n",
    "        print(f\"Arquivo CSV salvo em: {destino_csv}\")\n",
    "    else:\n",
    "        print(\"Nenhum destino selecionado. Operação cancelada.\")\n",
    "else:\n",
    "    print(\"Nenhum arquivo de áudio selecionado. Operação cancelada.\")"
   ]
  },
  {
   "cell_type": "markdown",
   "id": "e102c5e5",
   "metadata": {},
   "source": [
    "## Apos a transformação\n",
    "Os dados foram transformados em um csv com uma coluna, onde nele apresenta dados com 0 e 1, depois dessa transformação pegamos 8 desses números em formamos 1byte(8bits) que serão os números aleatórios"
   ]
  },
  {
   "cell_type": "code",
   "execution_count": null,
   "id": "6563b80f",
   "metadata": {},
   "outputs": [],
   "source": [
    "# TODO . . ."
   ]
  }
 ],
 "metadata": {
  "kernelspec": {
   "display_name": "Python 3 (ipykernel)",
   "language": "python",
   "name": "python3"
  },
  "language_info": {
   "codemirror_mode": {
    "name": "ipython",
    "version": 3
   },
   "file_extension": ".py",
   "mimetype": "text/x-python",
   "name": "python",
   "nbconvert_exporter": "python",
   "pygments_lexer": "ipython3",
   "version": "3.11.5"
  }
 },
 "nbformat": 4,
 "nbformat_minor": 5
}
