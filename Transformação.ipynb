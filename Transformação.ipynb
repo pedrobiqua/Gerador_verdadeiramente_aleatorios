{
 "cells": [
  {
   "cell_type": "code",
   "execution_count": 4,
   "id": "6f8698ba-0c7e-4d31-a869-c504cba346f6",
   "metadata": {},
   "outputs": [],
   "source": [
    "from pathlib import Path\n",
    "import os\n",
    "\n",
    "def group_values(input_file, output_file):\n",
    "    with open(input_file, 'r') as f:\n",
    "        lines = f.readlines()\n",
    "\n",
    "    data = []\n",
    "    for line in lines:\n",
    "        numbers = [1 if float(num) != 0 else 0 for num in line.split() if num.replace('.', '').isdigit()]\n",
    "        data.extend(numbers)\n",
    "\n",
    "    # Agrupando os valores em grupos de 8 caracteres\n",
    "    grouped_values = []\n",
    "    for i in range(0, len(data), 8):\n",
    "        grouped_values.append(data[i:i+8])\n",
    "\n",
    "\n",
    "    # Escrevendo os valores agrupados em um novo arquivo\n",
    "    with open(output_file, 'w') as f:\n",
    "        for value in grouped_values:\n",
    "            values_str = ''.join(map(str, value))\n",
    "            f.write(values_str + '\\n')\n",
    "\n",
    "# Exemplo de uso\n",
    "current_dir = Path(os.getcwd())\n",
    "CSV_OUTPUT_PATH = current_dir/\"results\"/\"result_b_notebook.csv\"\n",
    "input_file =   CSV_OUTPUT_PATH # Nome do arquivo de entrada com os valores 0s e 1s\n",
    "output_file = current_dir/\"results\"/'dados_agrupados.txt'  # Nome do arquivo de saída para os valores agrupados\n",
    "\n",
    "group_values(input_file, output_file)"
   ]
  },
  {
   "cell_type": "code",
   "execution_count": null,
   "id": "914e5389-0d30-42d1-a69b-f7e2691a740c",
   "metadata": {},
   "outputs": [],
   "source": []
  }
 ],
 "metadata": {
  "kernelspec": {
   "display_name": "Python 3 (ipykernel)",
   "language": "python",
   "name": "python3"
  },
  "language_info": {
   "codemirror_mode": {
    "name": "ipython",
    "version": 3
   },
   "file_extension": ".py",
   "mimetype": "text/x-python",
   "name": "python",
   "nbconvert_exporter": "python",
   "pygments_lexer": "ipython3",
   "version": "3.12.2"
  }
 },
 "nbformat": 4,
 "nbformat_minor": 5
}
